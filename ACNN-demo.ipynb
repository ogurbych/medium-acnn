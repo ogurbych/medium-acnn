{
 "cells": [
  {
   "cell_type": "code",
   "execution_count": null,
   "metadata": {},
   "outputs": [],
   "source": [
    "import torch\n",
    "import torch.nn as nn\n",
    "from torch.utils.data import DataLoader\n",
    "from dgllife.utils import EarlyStopping\n",
    "from configure import get_exp_configure\n",
    "from utils import set_random_seed, load_dataset, collate, load_model\n",
    "from main import run_a_train_epoch, run_an_eval_epoch, update_msg_from_scores"
   ]
  },
  {
   "cell_type": "code",
   "execution_count": null,
   "metadata": {},
   "outputs": [],
   "source": [
    "idx = 0 # select configuration\n",
    "args = dict()\n",
    "choices=['ACNN_PDBBind_core_pocket_random', 'ACNN_PDBBind_core_pocket_scaffold',\n",
    "         'ACNN_PDBBind_core_pocket_stratified', 'ACNN_PDBBind_core_pocket_temporal',\n",
    "         'ACNN_PDBBind_refined_pocket_random', 'ACNN_PDBBind_refined_pocket_scaffold',\n",
    "         'ACNN_PDBBind_refined_pocket_stratified', 'ACNN_PDBBind_refined_pocket_temporal']\n",
    "args.update(get_exp_configure(choices[idx]))\n",
    "args['device'] = torch.device(\"cuda: 0\") if torch.cuda.is_available() else torch.device(\"cpu\")\n",
    "set_random_seed(args['random_seed'])\n",
    "\n",
    "dataset, train_set, test_set = load_dataset(args)\n",
    "args['train_mean'] = train_set.labels_mean.to(args['device'])\n",
    "args['train_std'] = train_set.labels_std.to(args['device'])\n",
    "train_loader = DataLoader(dataset=train_set,\n",
    "                          batch_size=args['batch_size'],\n",
    "                          shuffle=False,\n",
    "                          collate_fn=collate)\n",
    "test_loader = DataLoader(dataset=test_set,\n",
    "                         batch_size=args['batch_size'],\n",
    "                         shuffle=True,\n",
    "                         collate_fn=collate)\n",
    "\n",
    "model = load_model(args)\n",
    "loss_fn = nn.MSELoss()\n",
    "optimizer = torch.optim.Adam(model.parameters(), lr=args['lr'])\n",
    "stopper = EarlyStopping(mode=args['mode'],\n",
    "                        patience=args['patience'],\n",
    "                        filename=choices[idx]+'_model.h5')\n",
    "if args['load_checkpoint']:\n",
    "    print('Loading checkpoint...')\n",
    "    stopper.load_checkpoint(model)\n",
    "model.to(args['device'])\n",
    "\n",
    "for epoch in range(args['num_epochs']):\n",
    "    run_a_train_epoch(args, epoch, model, train_loader, loss_fn, optimizer)\n",
    "    test_scores = run_an_eval_epoch(args, model, test_loader)\n",
    "    test_msg = update_msg_from_scores('test results', test_scores)\n",
    "    early_stop = stopper.step(test_scores['mae'], model)\n",
    "    print(test_msg)\n",
    "    \n",
    "    if early_stop:\n",
    "        print('Early stopping')\n",
    "        break"
   ]
  },
  {
   "cell_type": "code",
   "execution_count": null,
   "metadata": {},
   "outputs": [],
   "source": []
  }
 ],
 "metadata": {
  "kernelspec": {
   "display_name": "Python 3",
   "language": "python",
   "name": "python3"
  },
  "language_info": {
   "codemirror_mode": {
    "name": "ipython",
    "version": 3
   },
   "file_extension": ".py",
   "mimetype": "text/x-python",
   "name": "python",
   "nbconvert_exporter": "python",
   "pygments_lexer": "ipython3",
   "version": "3.7.6"
  }
 },
 "nbformat": 4,
 "nbformat_minor": 4
}
